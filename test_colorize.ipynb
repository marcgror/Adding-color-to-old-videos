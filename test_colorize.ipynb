{
 "cells": [
  {
   "cell_type": "code",
   "execution_count": 13,
   "metadata": {},
   "outputs": [],
   "source": [
    "# Import necessary packages\n",
    "import cv2\n",
    "import numpy as np\n",
    "import os\n",
    "from os.path import isfile, join\n",
    "import tensorflow as tf\n",
    "import os\n",
    "import time\n",
    "from matplotlib import pyplot as plt\n",
    "from skimage import color\n",
    "from skimage import io\n",
    "from keras.preprocessing.image import save_img\n",
    "import imageio\n",
    "import shutil\n",
    "from PIL import Image"
   ]
  },
  {
   "cell_type": "code",
   "execution_count": 14,
   "metadata": {},
   "outputs": [],
   "source": [
    "# Function to split a video in frames\n",
    "def video_to_frames(input_video, output_frames):\n",
    "    vidcap = cv2.VideoCapture(input_video)\n",
    "    def getFrame(sec):\n",
    "        vidcap.set(cv2.CAP_PROP_POS_MSEC,sec*1000)\n",
    "        hasFrames,image = vidcap.read()\n",
    "        if hasFrames:\n",
    "            cv2.imwrite(output_frames+\"/image\"+str(count)+\".jpg\", image)     \n",
    "        return hasFrames\n",
    "    sec = 0\n",
    "    frameRate = 1/25.0\n",
    "    count=1\n",
    "    success = getFrame(sec)\n",
    "    while success:\n",
    "        count = count + 1\n",
    "        sec = sec + frameRate\n",
    "        sec = round(sec, 2)\n",
    "        success = getFrame(sec)"
   ]
  },
  {
   "cell_type": "code",
   "execution_count": 15,
   "metadata": {},
   "outputs": [],
   "source": [
    "# Function to create the required folders\n",
    "def create_folder(folder):\n",
    "    if os.path.exists(folder):\n",
    "        shutil.rmtree(folder)\n",
    "        os.mkdir(folder)\n",
    "    else:\n",
    "        os.mkdir(folder)\n",
    "    print(folder, 'folder created.')"
   ]
  },
  {
   "cell_type": "code",
   "execution_count": 16,
   "metadata": {},
   "outputs": [],
   "source": [
    "# Defining the path to folders\n",
    "train_video_path = 'val_video.mp4'\n",
    "original_frames_path = 'output/'\n",
    "generated_path = 'generated/'"
   ]
  },
  {
   "cell_type": "code",
   "execution_count": 17,
   "metadata": {},
   "outputs": [
    {
     "output_type": "stream",
     "name": "stdout",
     "text": "output/ folder created.\ngenerated/ folder created.\n"
    }
   ],
   "source": [
    "# Create the necessary folders\n",
    "for folder in [original_frames_path, generated_path]:\n",
    "    create_folder(folder)"
   ]
  },
  {
   "cell_type": "code",
   "execution_count": 18,
   "metadata": {},
   "outputs": [],
   "source": [
    "# Split the video in frames and store them in the output folder\n",
    "video_to_frames(train_video_path, original_frames_path)"
   ]
  },
  {
   "cell_type": "code",
   "execution_count": 19,
   "metadata": {},
   "outputs": [],
   "source": [
    "# Defining parameters\n",
    "BUFFER_SIZE = 400\n",
    "BATCH_SIZE = 1\n",
    "IMG_WIDTH = 256\n",
    "IMG_HEIGHT = 256"
   ]
  },
  {
   "cell_type": "code",
   "execution_count": 20,
   "metadata": {},
   "outputs": [],
   "source": [
    "# Function to normalize an 256x256 image\n",
    "def normalize(real_image):\n",
    "  real_image = (real_image / 127.5) - 1\n",
    "  return real_image"
   ]
  },
  {
   "cell_type": "code",
   "execution_count": 21,
   "metadata": {},
   "outputs": [],
   "source": [
    "# Function to load the filenames of files in a folder\n",
    "def load_labels (folder):\n",
    "    labels = os.listdir(folder)\n",
    "    labels.sort(key=lambda f: int(''.join(filter(str.isdigit, f))))\n",
    "    return labels"
   ]
  },
  {
   "cell_type": "code",
   "execution_count": 22,
   "metadata": {},
   "outputs": [],
   "source": [
    "# Function to load the filenames of files in a folder with the folder name appended\n",
    "def load_labels_folder(labels, folder):\n",
    "    new_labels=[]\n",
    "    for label in labels:\n",
    "        label=folder+label\n",
    "        new_labels.append(label)\n",
    "    return new_labels"
   ]
  },
  {
   "cell_type": "code",
   "execution_count": 23,
   "metadata": {},
   "outputs": [],
   "source": [
    "# Function to load, crop, resize and normalize an image\n",
    "def load_image(image_file):\n",
    "    real_image = tf.io.read_file(image_file)\n",
    "    real_image = tf.image.decode_jpeg(real_image, channels=1)\n",
    "\n",
    "    real_image = tf.image.resize_with_crop_or_pad(real_image,256, 256)\n",
    "\n",
    "    real_image = tf.cast(real_image, tf.float32)\n",
    "\n",
    "    real_image = normalize(real_image)\n",
    "\n",
    "    return real_image"
   ]
  },
  {
   "cell_type": "code",
   "execution_count": 24,
   "metadata": {},
   "outputs": [],
   "source": [
    "# Store the labels\n",
    "labels = load_labels(original_frames_path)\n",
    "labels_folder = load_labels_folder(labels, original_frames_path)"
   ]
  },
  {
   "cell_type": "code",
   "execution_count": 25,
   "metadata": {},
   "outputs": [],
   "source": [
    "# Load the labels in a TF tensor\n",
    "labels_tensor = tf.constant(labels_folder)\n",
    "# Load the images, create batches and prefetch\n",
    "dataset = tf.data.Dataset.from_tensor_slices(labels_tensor)\n",
    "dataset = dataset.map(load_image,num_parallel_calls=tf.data.experimental.AUTOTUNE)\n",
    "dataset = dataset.batch(BATCH_SIZE)\n",
    "dataset = dataset.prefetch(1)"
   ]
  },
  {
   "cell_type": "code",
   "execution_count": 26,
   "metadata": {},
   "outputs": [],
   "source": [
    "# Function to generate colored images and save them\n",
    "def generate_images(model, test_input, label):\n",
    "  prediction = model(test_input, training=True)\n",
    "  save_img(generated_path+label, tf.squeeze(prediction)*0.5 +0.5)"
   ]
  },
  {
   "cell_type": "code",
   "execution_count": 27,
   "metadata": {},
   "outputs": [
    {
     "output_type": "stream",
     "name": "stdout",
     "text": "WARNING:tensorflow:No training configuration found in save file: the model was *not* compiled. Compile it manually.\n"
    }
   ],
   "source": [
    "# Load the trained model\n",
    "model = tf.keras.models.load_model('model_60_trained.h5')"
   ]
  },
  {
   "cell_type": "code",
   "execution_count": 28,
   "metadata": {},
   "outputs": [
    {
     "output_type": "stream",
     "name": "stdout",
     "text": "Model: \"model\"\n__________________________________________________________________________________________________\nLayer (type)                    Output Shape         Param #     Connected to                     \n==================================================================================================\ninput_1 (InputLayer)            [(None, 256, 256, 1) 0                                            \n__________________________________________________________________________________________________\nsequential (Sequential)         (None, 128, 128, 64) 1024        input_1[0][0]                    \n__________________________________________________________________________________________________\nsequential_1 (Sequential)       (None, 64, 64, 128)  131584      sequential[0][0]                 \n__________________________________________________________________________________________________\nsequential_2 (Sequential)       (None, 32, 32, 256)  525312      sequential_1[0][0]               \n__________________________________________________________________________________________________\nsequential_3 (Sequential)       (None, 16, 16, 512)  2099200     sequential_2[0][0]               \n__________________________________________________________________________________________________\nsequential_4 (Sequential)       (None, 8, 8, 512)    4196352     sequential_3[0][0]               \n__________________________________________________________________________________________________\nsequential_5 (Sequential)       (None, 4, 4, 512)    4196352     sequential_4[0][0]               \n__________________________________________________________________________________________________\nsequential_6 (Sequential)       (None, 2, 2, 512)    4196352     sequential_5[0][0]               \n__________________________________________________________________________________________________\nsequential_7 (Sequential)       (None, 1, 1, 512)    4196352     sequential_6[0][0]               \n__________________________________________________________________________________________________\nsequential_8 (Sequential)       (None, 2, 2, 512)    4196352     sequential_7[0][0]               \n__________________________________________________________________________________________________\nconcatenate (Concatenate)       (None, 2, 2, 1024)   0           sequential_8[0][0]               \n                                                                 sequential_6[0][0]               \n__________________________________________________________________________________________________\nsequential_9 (Sequential)       (None, 4, 4, 512)    8390656     concatenate[0][0]                \n__________________________________________________________________________________________________\nconcatenate_1 (Concatenate)     (None, 4, 4, 1024)   0           sequential_9[0][0]               \n                                                                 sequential_5[0][0]               \n__________________________________________________________________________________________________\nsequential_10 (Sequential)      (None, 8, 8, 512)    8390656     concatenate_1[0][0]              \n__________________________________________________________________________________________________\nconcatenate_2 (Concatenate)     (None, 8, 8, 1024)   0           sequential_10[0][0]              \n                                                                 sequential_4[0][0]               \n__________________________________________________________________________________________________\nsequential_11 (Sequential)      (None, 16, 16, 512)  8390656     concatenate_2[0][0]              \n__________________________________________________________________________________________________\nconcatenate_3 (Concatenate)     (None, 16, 16, 1024) 0           sequential_11[0][0]              \n                                                                 sequential_3[0][0]               \n__________________________________________________________________________________________________\nsequential_12 (Sequential)      (None, 32, 32, 256)  4195328     concatenate_3[0][0]              \n__________________________________________________________________________________________________\nconcatenate_4 (Concatenate)     (None, 32, 32, 512)  0           sequential_12[0][0]              \n                                                                 sequential_2[0][0]               \n__________________________________________________________________________________________________\nsequential_13 (Sequential)      (None, 64, 64, 128)  1049088     concatenate_4[0][0]              \n__________________________________________________________________________________________________\nconcatenate_5 (Concatenate)     (None, 64, 64, 256)  0           sequential_13[0][0]              \n                                                                 sequential_1[0][0]               \n__________________________________________________________________________________________________\nsequential_14 (Sequential)      (None, 128, 128, 64) 262400      concatenate_5[0][0]              \n__________________________________________________________________________________________________\nconcatenate_6 (Concatenate)     (None, 128, 128, 128 0           sequential_14[0][0]              \n                                                                 sequential[0][0]                 \n__________________________________________________________________________________________________\nconv2d_transpose_7 (Conv2DTrans (None, 256, 256, 3)  6147        concatenate_6[0][0]              \n==================================================================================================\nTotal params: 54,423,811\nTrainable params: 54,412,931\nNon-trainable params: 10,880\n__________________________________________________________________________________________________\n"
    }
   ],
   "source": [
    "# Review the model summary\n",
    "model.summary()"
   ]
  },
  {
   "cell_type": "code",
   "execution_count": 29,
   "metadata": {},
   "outputs": [],
   "source": [
    "# Iterate over the dataset and generate colorized images\n",
    "iterator = iter(dataset)\n",
    "for i in range(len(labels)):\n",
    "    input = iterator.get_next()\n",
    "    label= labels[i]\n",
    "    generate_images(model, input, label)"
   ]
  },
  {
   "cell_type": "code",
   "execution_count": 30,
   "metadata": {},
   "outputs": [],
   "source": [
    "# Function to join frames creating a video\n",
    "def join_frames(pathIn, pathOut):\n",
    "    fps = 23.98\n",
    "    frame_array = []\n",
    "    files = load_labels(pathIn)\n",
    "    for i in range(len(files)):\n",
    "        filename=pathIn + files[i]\n",
    "        #reading each files\n",
    "        img = cv2.imread(filename)\n",
    "        height, width, layers = img.shape\n",
    "        size = (width,height)   \n",
    "        #inserting the frames into an image array\n",
    "        frame_array.append(img)\n",
    "    out = cv2.VideoWriter(pathOut,cv2.VideoWriter_fourcc(*'DIVX'), fps, size)\n",
    "    for i in range(len(frame_array)):\n",
    "        # writing to a image array\n",
    "        out.write(frame_array[i])\n",
    "    out.release()"
   ]
  },
  {
   "cell_type": "code",
   "execution_count": 31,
   "metadata": {},
   "outputs": [],
   "source": [
    "# Create the colorized video\n",
    "generated_video = 'colorized_video.mp4'\n",
    "join_frames(generated_path, generated_video)"
   ]
  },
  {
   "cell_type": "code",
   "execution_count": 32,
   "metadata": {},
   "outputs": [],
   "source": [
    "# Function to create a gif of the desired lenght\n",
    "def make_gif(pathIn, start, end):\n",
    "    import imageio\n",
    "    images = []\n",
    "    files = load_labels(pathIn)\n",
    "    for filename in files[start:end]:\n",
    "        images.append(imageio.imread(pathIn+filename))\n",
    "    imageio.mimsave('movie.gif', images)"
   ]
  },
  {
   "cell_type": "code",
   "execution_count": 33,
   "metadata": {
    "tags": [
     "outputPrepend",
     "outputPrepend",
     "outputPrepend",
     "outputPrepend",
     "outputPrepend",
     "outputPrepend",
     "outputPrepend",
     "outputPrepend",
     "outputPrepend",
     "outputPrepend",
     "outputPrepend",
     "outputPrepend",
     "outputPrepend",
     "outputPrepend",
     "outputPrepend",
     "outputPrepend",
     "outputPrepend",
     "outputPrepend",
     "outputPrepend",
     "outputPrepend",
     "outputPrepend",
     "outputPrepend",
     "outputPrepend",
     "outputPrepend",
     "outputPrepend",
     "outputPrepend",
     "outputPrepend",
     "outputPrepend",
     "outputPrepend",
     "outputPrepend",
     "outputPrepend",
     "outputPrepend",
     "outputPrepend",
     "outputPrepend",
     "outputPrepend",
     "outputPrepend",
     "outputPrepend",
     "outputPrepend",
     "outputPrepend",
     "outputPrepend",
     "outputPrepend",
     "outputPrepend",
     "outputPrepend",
     "outputPrepend",
     "outputPrepend",
     "outputPrepend",
     "outputPrepend",
     "outputPrepend",
     "outputPrepend",
     "outputPrepend",
     "outputPrepend",
     "outputPrepend",
     "outputPrepend",
     "outputPrepend",
     "outputPrepend",
     "outputPrepend",
     "outputPrepend",
     "outputPrepend",
     "outputPrepend",
     "outputPrepend",
     "outputPrepend",
     "outputPrepend",
     "outputPrepend",
     "outputPrepend",
     "outputPrepend",
     "outputPrepend",
     "outputPrepend",
     "outputPrepend",
     "outputPrepend",
     "outputPrepend",
     "outputPrepend",
     "outputPrepend",
     "outputPrepend",
     "outputPrepend",
     "outputPrepend",
     "outputPrepend",
     "outputPrepend",
     "outputPrepend",
     "outputPrepend",
     "outputPrepend",
     "outputPrepend",
     "outputPrepend",
     "outputPrepend",
     "outputPrepend",
     "outputPrepend",
     "outputPrepend",
     "outputPrepend",
     "outputPrepend",
     "outputPrepend",
     "outputPrepend",
     "outputPrepend",
     "outputPrepend",
     "outputPrepend",
     "outputPrepend",
     "outputPrepend",
     "outputPrepend",
     "outputPrepend",
     "outputPrepend",
     "outputPrepend",
     "outputPrepend",
     "outputPrepend",
     "outputPrepend",
     "outputPrepend",
     "outputPrepend",
     "outputPrepend",
     "outputPrepend",
     "outputPrepend",
     "outputPrepend",
     "outputPrepend",
     "outputPrepend",
     "outputPrepend",
     "outputPrepend",
     "outputPrepend",
     "outputPrepend",
     "outputPrepend",
     "outputPrepend",
     "outputPrepend",
     "outputPrepend",
     "outputPrepend",
     "outputPrepend",
     "outputPrepend",
     "outputPrepend",
     "outputPrepend",
     "outputPrepend",
     "outputPrepend",
     "outputPrepend",
     "outputPrepend",
     "outputPrepend",
     "outputPrepend",
     "outputPrepend",
     "outputPrepend",
     "outputPrepend"
    ]
   },
   "outputs": [],
   "source": [
    "make_gif(generated_path, 3000, 4000)"
   ]
  }
 ],
 "metadata": {
  "language_info": {
   "codemirror_mode": {
    "name": "ipython",
    "version": 3
   },
   "file_extension": ".py",
   "mimetype": "text/x-python",
   "name": "python",
   "nbconvert_exporter": "python",
   "pygments_lexer": "ipython3",
   "version": "3.7.7-final"
  },
  "orig_nbformat": 2,
  "kernelspec": {
   "name": "python37764bitmyenvconda966a52bc464c4d8495af3e092d2af30f",
   "display_name": "Python 3.7.7 64-bit ('myenv': conda)"
  }
 },
 "nbformat": 4,
 "nbformat_minor": 2
}